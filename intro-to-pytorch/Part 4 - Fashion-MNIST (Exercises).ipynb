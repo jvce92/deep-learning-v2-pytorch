{
 "cells": [
  {
   "cell_type": "markdown",
   "metadata": {},
   "source": [
    "# Classifying Fashion-MNIST\n",
    "\n",
    "Now it's your turn to build and train a neural network. You'll be using the [Fashion-MNIST dataset](https://github.com/zalandoresearch/fashion-mnist), a drop-in replacement for the MNIST dataset. MNIST is actually quite trivial with neural networks where you can easily achieve better than 97% accuracy. Fashion-MNIST is a set of 28x28 greyscale images of clothes. It's more complex than MNIST, so it's a better representation of the actual performance of your network, and a better representation of datasets you'll use in the real world.\n",
    "\n",
    "<img src='assets/fashion-mnist-sprite.png' width=500px>\n",
    "\n",
    "In this notebook, you'll build your own neural network. For the most part, you could just copy and paste the code from Part 3, but you wouldn't be learning. It's important for you to write the code yourself and get it to work. Feel free to consult the previous notebooks though as you work through this.\n",
    "\n",
    "First off, let's load the dataset through torchvision."
   ]
  },
  {
   "cell_type": "code",
   "execution_count": 1,
   "metadata": {},
   "outputs": [
    {
     "name": "stdout",
     "output_type": "stream",
     "text": [
      "Downloading http://fashion-mnist.s3-website.eu-central-1.amazonaws.com/train-images-idx3-ubyte.gz\n",
      "Downloading http://fashion-mnist.s3-website.eu-central-1.amazonaws.com/train-labels-idx1-ubyte.gz\n",
      "Downloading http://fashion-mnist.s3-website.eu-central-1.amazonaws.com/t10k-images-idx3-ubyte.gz\n",
      "Downloading http://fashion-mnist.s3-website.eu-central-1.amazonaws.com/t10k-labels-idx1-ubyte.gz\n",
      "Processing...\n",
      "Done!\n"
     ]
    }
   ],
   "source": [
    "import torch\n",
    "from torchvision import datasets, transforms\n",
    "import helper\n",
    "\n",
    "# Define a transform to normalize the data\n",
    "transform = transforms.Compose([transforms.ToTensor(),\n",
    "                                transforms.Normalize((0.5, 0.5, 0.5), (0.5, 0.5, 0.5))])\n",
    "# Download and load the training data\n",
    "trainset = datasets.FashionMNIST('~/data/.pytorch/F_MNIST_data/', download=True, train=True, transform=transform)\n",
    "trainloader = torch.utils.data.DataLoader(trainset, batch_size=64, shuffle=True)\n",
    "\n",
    "# Download and load the test data\n",
    "testset = datasets.FashionMNIST('~/data/.pytorch/F_MNIST_data/', download=True, train=False, transform=transform)\n",
    "testloader = torch.utils.data.DataLoader(testset, batch_size=64, shuffle=True)"
   ]
  },
  {
   "cell_type": "markdown",
   "metadata": {},
   "source": [
    "Here we can see one of the images."
   ]
  },
  {
   "cell_type": "code",
   "execution_count": 2,
   "metadata": {},
   "outputs": [
    {
     "data": {
      "image/png": "[encoded data removed]",
      "text/plain": [
       "<Figure size 432x288 with 1 Axes>"
      ]
     },
     "metadata": {
      "needs_background": "light"
     },
     "output_type": "display_data"
    }
   ],
   "source": [
    "image, label = next(iter(trainloader))\n",
    "helper.imshow(image[0,:]);"
   ]
  },
  {
   "cell_type": "markdown",
   "metadata": {},
   "source": [
    "## Building the network\n",
    "\n",
    "Here you should define your network. As with MNIST, each image is 28x28 which is a total of 784 pixels, and there are 10 classes. You should include at least one hidden layer. We suggest you use ReLU activations for the layers and to return the logits or log-softmax from the forward pass. It's up to you how many layers you add and the size of those layers."
   ]
  },
  {
   "cell_type": "code",
   "execution_count": 15,
   "metadata": {},
   "outputs": [],
   "source": [
    "# TODO: Define your network architecture here\n",
    "\n",
    "# Dataset properties\n",
    "img_height = 28 \n",
    "img_width = 28\n",
    "num_classes = 10\n",
    "batch_size = 64\n",
    "train_size = len(trainloader.dataset)\n",
    "test_size = len(testloader.dataset)\n",
    "\n",
    "# Network properties\n",
    "n_inputs = img_height * img_width \n",
    "n_outputs = num_classes\n",
    "n_h1 = 256\n",
    "n_h2 = 128\n",
    "n_h3 = 64"
   ]
  },
  {
   "cell_type": "code",
   "execution_count": 8,
   "metadata": {},
   "outputs": [],
   "source": [
    "from torch import nn"
   ]
  },
  {
   "cell_type": "code",
   "execution_count": 37,
   "metadata": {},
   "outputs": [
    {
     "name": "stdout",
     "output_type": "stream",
     "text": [
      "Sequential(\n",
      "  (0): Linear(in_features=784, out_features=256, bias=True)\n",
      "  (1): ReLU()\n",
      "  (2): Linear(in_features=256, out_features=128, bias=True)\n",
      "  (3): ReLU()\n",
      "  (4): Linear(in_features=128, out_features=64, bias=True)\n",
      "  (5): ReLU()\n",
      "  (6): Linear(in_features=64, out_features=10, bias=True)\n",
      "  (7): LogSoftmax()\n",
      ")\n"
     ]
    }
   ],
   "source": [
    "model = nn.Sequential(nn.Linear(n_inputs, n_h1),\n",
    "                      nn.ReLU(),\n",
    "                      nn.Linear(n_h1, n_h2),\n",
    "                      nn.ReLU(),\n",
    "                      nn.Linear(n_h2, n_h3),\n",
    "                      nn.ReLU(),\n",
    "                      nn.Linear(n_h3, n_outputs),\n",
    "                      nn.LogSoftmax(dim=1))\n",
    "\n",
    "print(model)"
   ]
  },
  {
   "cell_type": "markdown",
   "metadata": {},
   "source": [
    "# Train the network\n",
    "\n",
    "Now you should create your network and train it. First you'll want to define [the criterion](http://pytorch.org/docs/master/nn.html#loss-functions) ( something like `nn.CrossEntropyLoss`) and [the optimizer](http://pytorch.org/docs/master/optim.html) (typically `optim.SGD` or `optim.Adam`).\n",
    "\n",
    "Then write the training code. Remember the training pass is a fairly straightforward process:\n",
    "\n",
    "* Make a forward pass through the network to get the logits \n",
    "* Use the logits to calculate the loss\n",
    "* Perform a backward pass through the network with `loss.backward()` to calculate the gradients\n",
    "* Take a step with the optimizer to update the weights\n",
    "\n",
    "By adjusting the hyperparameters (hidden units, learning rate, etc), you should be able to get the training loss below 0.4."
   ]
  },
  {
   "cell_type": "code",
   "execution_count": 38,
   "metadata": {},
   "outputs": [],
   "source": [
    "from torch import optim"
   ]
  },
  {
   "cell_type": "code",
   "execution_count": 39,
   "metadata": {},
   "outputs": [],
   "source": [
    "# TODO: Create the network, define the criterion and optimizer\n",
    "optimizer = optim.Adam(model.parameters(), lr=0.01)\n",
    "criterion = nn.NLLLoss()"
   ]
  },
  {
   "cell_type": "code",
   "execution_count": 40,
   "metadata": {},
   "outputs": [
    {
     "name": "stdout",
     "output_type": "stream",
     "text": [
      "[Epoch 0] Running Loss = 0.916912254359987 (6336/60000)\n",
      "[Epoch 0] Running Loss = 0.7590513242848554 (12736/60000)\n",
      "[Epoch 0] Running Loss = 0.6943607884505919 (19136/60000)\n",
      "[Epoch 0] Running Loss = 0.6626772715483692 (25536/60000)\n",
      "[Epoch 0] Running Loss = 0.6319131393112496 (31936/60000)\n",
      "[Epoch 0] Running Loss = 0.6161300695201193 (38336/60000)\n",
      "[Epoch 0] Running Loss = 0.6029055150963888 (44736/60000)\n",
      "[Epoch 0] Running Loss = 0.591053953046942 (51136/60000)\n",
      "[Epoch 0] Running Loss = 0.5802736308206042 (57536/60000)\n",
      "[Epoch 0] Training Loss = 0.5755051548864796\n",
      "############################################################\n",
      "[Epoch 1] Running Loss = 0.49132426338966445 (6336/60000)\n",
      "[Epoch 1] Running Loss = 0.479271141353564 (12736/60000)\n",
      "[Epoch 1] Running Loss = 0.47238139060628054 (19136/60000)\n",
      "[Epoch 1] Running Loss = 0.4694375000651319 (25536/60000)\n",
      "[Epoch 1] Running Loss = 0.4699777184364074 (31936/60000)\n",
      "[Epoch 1] Running Loss = 0.47036032371210534 (38336/60000)\n",
      "[Epoch 1] Running Loss = 0.4699056246164701 (44736/60000)\n",
      "[Epoch 1] Running Loss = 0.46731060601593705 (51136/60000)\n",
      "[Epoch 1] Running Loss = 0.46692369407554624 (57536/60000)\n",
      "[Epoch 1] Training Loss = 0.4657575710337045\n",
      "############################################################\n",
      "[Epoch 2] Running Loss = 0.4341765788167414 (6336/60000)\n",
      "[Epoch 2] Running Loss = 0.42749221578015756 (12736/60000)\n",
      "[Epoch 2] Running Loss = 0.42826308354884884 (19136/60000)\n",
      "[Epoch 2] Running Loss = 0.4289356920877495 (25536/60000)\n",
      "[Epoch 2] Running Loss = 0.43314401939780056 (31936/60000)\n",
      "[Epoch 2] Running Loss = 0.43084578273292373 (38336/60000)\n",
      "[Epoch 2] Running Loss = 0.42872177484379986 (44736/60000)\n",
      "[Epoch 2] Running Loss = 0.4285577694152264 (51136/60000)\n",
      "[Epoch 2] Running Loss = 0.42698747494793576 (57536/60000)\n",
      "[Epoch 2] Training Loss = 0.4263346498486584\n",
      "############################################################\n",
      "[Epoch 3] Running Loss = 0.40276181953723983 (6336/60000)\n",
      "[Epoch 3] Running Loss = 0.40452057220528476 (12736/60000)\n",
      "[Epoch 3] Running Loss = 0.40284424551753295 (19136/60000)\n",
      "[Epoch 3] Running Loss = 0.4153083741739579 (25536/60000)\n",
      "[Epoch 3] Running Loss = 0.4198406000653345 (31936/60000)\n",
      "[Epoch 3] Running Loss = 0.4162728838212104 (38336/60000)\n",
      "[Epoch 3] Running Loss = 0.41823597806632434 (44736/60000)\n",
      "[Epoch 3] Running Loss = 0.41682164503426966 (51136/60000)\n",
      "[Epoch 3] Running Loss = 0.4171588042786177 (57536/60000)\n",
      "[Epoch 3] Training Loss = 0.4180351641894912\n",
      "############################################################\n",
      "[Epoch 4] Running Loss = 0.38351939754052594 (6336/60000)\n",
      "[Epoch 4] Running Loss = 0.3962789271494851 (12736/60000)\n",
      "[Epoch 4] Running Loss = 0.39749768112216105 (19136/60000)\n",
      "[Epoch 4] Running Loss = 0.39959087926791725 (25536/60000)\n",
      "[Epoch 4] Running Loss = 0.39415271636957155 (31936/60000)\n",
      "[Epoch 4] Running Loss = 0.3993497010015685 (38336/60000)\n",
      "[Epoch 4] Running Loss = 0.3963551226902076 (44736/60000)\n",
      "[Epoch 4] Running Loss = 0.39676423124661286 (51136/60000)\n",
      "[Epoch 4] Running Loss = 0.3962572325224076 (57536/60000)\n",
      "[Epoch 4] Training Loss = 0.39639833032576516\n",
      "############################################################\n"
     ]
    }
   ],
   "source": [
    "# TODO: Train the network here\n",
    "\n",
    "if torch.cuda.is_available():\n",
    "    device = torch.device(\"cuda:0\")\n",
    "    model.cuda(device=device)\n",
    "else:\n",
    "    device = torch.device(\"cpu\")\n",
    "\n",
    "for param in model.parameters():\n",
    "    param.requires_grad = True    \n",
    "    \n",
    "num_epochs = 5   \n",
    "for epoch in range(num_epochs):\n",
    "    running_loss = 0\n",
    "    for i, (img, label) in enumerate(trainloader):\n",
    "        img = img.view(img.shape[0], -1)\n",
    "        img, label = img.to(device), label.to(device)\n",
    "        \n",
    "        optimizer.zero_grad()\n",
    "        out = model.forward(img)\n",
    "        loss = criterion(out, label)\n",
    "        loss.backward()\n",
    "        optimizer.step()\n",
    "        \n",
    "        running_loss += loss.item()\n",
    "        \n",
    "        if (i + 1) % 100 == 0:\n",
    "            print(\"[Epoch {0}] Running Loss = {1} ({2}/{3})\".format(epoch, running_loss / i, batch_size * i, train_size))\n",
    "    \n",
    "    print(\"[Epoch {0}] Training Loss = {1}\".format(epoch, running_loss / len(trainloader)))\n",
    "    print(\"#\"*60)"
   ]
  },
  {
   "cell_type": "code",
   "execution_count": 41,
   "metadata": {},
   "outputs": [],
   "source": [
    "import numpy as np"
   ]
  },
  {
   "cell_type": "code",
   "execution_count": 42,
   "metadata": {},
   "outputs": [
    {
     "data": {
      "text/plain": [
       "3"
      ]
     },
     "execution_count": 42,
     "metadata": {},
     "output_type": "execute_result"
    }
   ],
   "source": [
    "a = np.array([1, 1, 1, 1])\n",
    "b = np.array([0, 0, 0, 1])\n",
    "\n",
    "np.sum(a != b)"
   ]
  },
  {
   "cell_type": "code",
   "execution_count": 43,
   "metadata": {},
   "outputs": [
    {
     "name": "stdout",
     "output_type": "stream",
     "text": [
      "Accuracy: 84.6\n"
     ]
    }
   ],
   "source": [
    "test_errors = 0\n",
    "for param in model.parameters():\n",
    "    param.requires_grad = False\n",
    "\n",
    "for i, (img, label) in enumerate(testloader):\n",
    "    img = img.view(img.shape[0], -1)\n",
    "    img, label = img.to(device), label.to(device)\n",
    "\n",
    "    out = model.forward(img)\n",
    "    probs = out.cpu().numpy()\n",
    "    pred = np.argmax(probs, axis=1)\n",
    "    test_errors += np.sum(pred != label.cpu().numpy())\n",
    "    \n",
    "print(\"Accuracy: {0}\".format(100 * (test_size - test_errors) / test_size))"
   ]
  },
  {
   "cell_type": "code",
   "execution_count": 47,
   "metadata": {},
   "outputs": [],
   "source": [
    "from torch.nn import functional as F"
   ]
  },
  {
   "cell_type": "code",
   "execution_count": 52,
   "metadata": {},
   "outputs": [
    {
     "data": {
      "image/png": "[encoded data removed]",
      "text/plain": [
       "<Figure size 432x648 with 2 Axes>"
      ]
     },
     "metadata": {
      "image/png": {
       "height": 204,
       "width": 423
      },
      "needs_background": "light"
     },
     "output_type": "display_data"
    }
   ],
   "source": [
    "%matplotlib inline\n",
    "%config InlineBackend.figure_format = 'retina'\n",
    "\n",
    "import helper\n",
    "\n",
    "# Test out your network!\n",
    "\n",
    "model.to(\"cpu\")\n",
    "\n",
    "dataiter = iter(testloader)\n",
    "images, labels = dataiter.next()\n",
    "img = images[0]\n",
    "# Convert 2D image to 1D vector\n",
    "img = img.resize_(1, 784)\n",
    "\n",
    "# TODO: Calculate the class probabilities (softmax) for img\n",
    "with torch.no_grad():\n",
    "    out = model.forward(img)\n",
    "\n",
    "ps = F.softmax(out, dim=1)\n",
    "\n",
    "# Plot the image and probabilities\n",
    "helper.view_classify(img.resize_(1, 28, 28), ps, version='Fashion')"
   ]
  }
 ],
 "metadata": {
  "kernelspec": {
   "display_name": "Python 3",
   "language": "python",
   "name": "python3"
  },
  "language_info": {
   "codemirror_mode": {
    "name": "ipython",
    "version": 3
   },
   "file_extension": ".py",
   "mimetype": "text/x-python",
   "name": "python",
   "nbconvert_exporter": "python",
   "pygments_lexer": "ipython3",
   "version": "3.7.0"
  }
 },
 "nbformat": 4,
 "nbformat_minor": 2
}
